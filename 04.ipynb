{
 "cells": [
  {
   "cell_type": "code",
   "execution_count": 1,
   "metadata": {},
   "outputs": [],
   "source": [
    "import pandas as pd\n",
    "pd.options.mode.chained_assignment = None \n",
    "import numpy as np\n",
    "import re\n",
    "import nltk\n",
    "\n",
    "from gensim.models import word2vec\n",
    "\n",
    "from sklearn.manifold import TSNE\n",
    "import matplotlib.pyplot as plt\n",
    "%matplotlib inline\n",
    "\n",
    "from collections import Counter#Counter计数器，统计字符出现的个数\n",
    "from string import punctuation\n",
    "import jieba\n",
    "import jieba.analyse\n",
    "import jieba.posseg as pseg\n",
    "import codecs, sys"
   ]
  },
  {
   "cell_type": "code",
   "execution_count": 2,
   "metadata": {},
   "outputs": [],
   "source": [
    "#with open('E:/维基百科中文20190720/extracted/AA/wiki_02_jian.txt','r',encoding='utf-8') as f:\n",
    "#    data = pd.read_table(f)\n",
    "#data.head(10)"
   ]
  },
  {
   "cell_type": "markdown",
   "metadata": {},
   "source": [
    "数据预处理"
   ]
  },
  {
   "cell_type": "code",
   "execution_count": 3,
   "metadata": {},
   "outputs": [],
   "source": [
    "# 英文标点符号+中文标点符号\n",
    "punc = punctuation + u'.,;《》？！“”‘’@#￥%…&×（）——+【】{};；●，。&～、|\\s::a-zA-Z0-9:「」'\n",
    "def clean(line):\n",
    "    # we will learn the regular expression next course.\n",
    "    line_re = re.sub(r\"[{}]+\".format(punc),\"\",line)\n",
    "    return line_re"
   ]
  },
  {
   "cell_type": "markdown",
   "metadata": {},
   "source": [
    "分词"
   ]
  },
  {
   "cell_type": "code",
   "execution_count": 33,
   "metadata": {
    "scrolled": false
   },
   "outputs": [],
   "source": [
    "STOP_WORDS = nltk.corpus.stopwords.words()\n",
    "content = []\n",
    "#target = codecs.open(\"E:/维基百科中文20190720/extracted/AA/wiki_02_jian_seg.txt\", 'w', encoding=\"utf-8\")   \n",
    "with open('E:/维基百科中文20190720/extracted/AA/wiki_02_jian.txt', \"r\", encoding='utf-8-sig') as f:\n",
    "    for line in f.readlines():#一行一行读\n",
    "        if len(line)<=1 or line.startswith(\">doc\") or line.startswith(\"/doc\"):continue\n",
    "        line_clean = clean(line)\n",
    "        line_seg = \" \".join(jieba.cut(line_clean))\n",
    "        line_seg_w = line_seg.split(\" \")\n",
    "        for word in line_seg_w:\n",
    "            if word in STOP_WORDS :\n",
    "                line_seg_w.remove(word) \n",
    "        content.append(line_seg_w)\n",
    "        \n",
    "        #target.writelines(line_seg)\n",
    "f.close()\n",
    "#target.close()"
   ]
  },
  {
   "cell_type": "code",
   "execution_count": 34,
   "metadata": {},
   "outputs": [
    {
     "data": {
      "text/plain": [
       "1814671"
      ]
     },
     "execution_count": 34,
     "metadata": {},
     "output_type": "execute_result"
    }
   ],
   "source": [
    "len(content)"
   ]
  },
  {
   "cell_type": "markdown",
   "metadata": {},
   "source": [
    "词向量"
   ]
  },
  {
   "cell_type": "code",
   "execution_count": 35,
   "metadata": {},
   "outputs": [],
   "source": [
    "from gensim.test.utils import common_texts, get_tmpfile\n",
    "from gensim.models import Word2Vec\n",
    "path = get_tmpfile(\"word2vec.model\")\n",
    "\n",
    "model = Word2Vec(content, size=100, window=5, min_count=1, workers=4)\n",
    "model.save(\"word2vec_02.model\")"
   ]
  },
  {
   "cell_type": "code",
   "execution_count": 36,
   "metadata": {
    "scrolled": true
   },
   "outputs": [],
   "source": [
    "model = Word2Vec.load(\"word2vec_02.model\")#加载"
   ]
  },
  {
   "cell_type": "code",
   "execution_count": 70,
   "metadata": {},
   "outputs": [],
   "source": [
    "def tsne_plot(model):\n",
    "    \"Creates and TSNE model and plots it\"\n",
    "    labels = []\n",
    "    tokens = []\n",
    "\n",
    "    for word in model.wv.vocab:\n",
    "        tokens.append(model[word])\n",
    "        labels.append(word)\n",
    "    \n",
    "    tsne_model = TSNE(perplexity=40, n_components=2, init='pca', n_iter=2500, random_state=23)\n",
    "    new_values = tsne_model.fit_transform(tokens)\n",
    "\n",
    "    x = []\n",
    "    y = []\n",
    "    for value in new_values:\n",
    "        x.append(value[0])\n",
    "        y.append(value[1])\n",
    "        \n",
    "    plt.figure(figsize=(16, 16)) \n",
    "    for i in range(len(x)):\n",
    "        plt.scatter(x[i],y[i])\n",
    "        plt.annotate(labels[i],\n",
    "                     xy=(x[i], y[i]),\n",
    "                     xytext=(5, 2),\n",
    "                     textcoords='offset points',\n",
    "                     ha='right',\n",
    "                     va='bottom')\n",
    "    plt.show()"
   ]
  },
  {
   "cell_type": "code",
   "execution_count": 72,
   "metadata": {},
   "outputs": [],
   "source": [
    "#tsne_plot(model)"
   ]
  },
  {
   "cell_type": "code",
   "execution_count": 133,
   "metadata": {},
   "outputs": [
    {
     "name": "stderr",
     "output_type": "stream",
     "text": [
      "D:\\Anaconda3\\lib\\site-packages\\ipykernel_launcher.py:1: DeprecationWarning: Call to deprecated `iter` (Attribute will be removed in 4.0.0, use self.epochs instead).\n",
      "  \"\"\"Entry point for launching an IPython kernel.\n"
     ]
    },
    {
     "data": {
      "text/plain": [
       "(10, 20)"
      ]
     },
     "execution_count": 133,
     "metadata": {},
     "output_type": "execute_result"
    }
   ],
   "source": [
    "model.train([[\"张伟\",\"大家好\"]], total_examples=model.corpus_count, epochs=model.iter)#model.train()？？只可以设置增加新语料，设置迭代次"
   ]
  },
  {
   "cell_type": "code",
   "execution_count": 31,
   "metadata": {
    "scrolled": true
   },
   "outputs": [
    {
     "data": {
      "text/plain": [
       "array([-2.29001627e-03,  7.62209436e-03, -7.33958371e-03, -9.67524829e-04,\n",
       "        9.89851542e-03, -3.07188420e-05,  5.14899474e-03,  8.15794151e-03,\n",
       "        3.42693296e-03,  5.07293455e-03,  5.70513168e-03, -1.38736945e-02,\n",
       "       -2.85584526e-03, -6.81061670e-03,  1.27837071e-02,  6.17387798e-03,\n",
       "        1.60650406e-02, -9.68953781e-03, -1.27714658e-02,  3.16178106e-04,\n",
       "        9.21780738e-05,  3.82249523e-03, -5.90246264e-03, -7.74748530e-03,\n",
       "        9.11066029e-03, -6.16263878e-03,  5.44559816e-03, -7.12375448e-04,\n",
       "        2.05145963e-03, -6.08816859e-04, -1.91276502e-02,  4.73872013e-03,\n",
       "        3.85069684e-03,  1.17760326e-03,  5.39134489e-03,  6.00508228e-03,\n",
       "       -6.23274967e-03,  3.44593031e-03, -1.18283564e-02,  4.05947765e-04,\n",
       "        1.65105313e-02,  9.44453385e-03, -1.63313635e-02, -8.37097224e-03,\n",
       "       -4.47184220e-03,  1.71865406e-03, -3.61083518e-03, -7.41649745e-03,\n",
       "        1.42203551e-02, -1.50657655e-03, -1.43458117e-02,  5.60824992e-03,\n",
       "       -2.26507219e-03,  2.23036506e-03,  3.28640279e-04,  2.88599706e-03,\n",
       "        7.44900666e-03, -2.96072321e-05, -8.34816601e-03, -5.26762474e-03,\n",
       "       -1.22885108e-02,  4.88218851e-04, -2.43453681e-03,  2.43416149e-03,\n",
       "        5.62708685e-03, -8.50136112e-03,  3.94224917e-04, -2.96502351e-03,\n",
       "       -6.63791224e-03, -9.49217938e-03,  1.35041988e-02,  4.52579046e-03,\n",
       "        7.76713528e-03, -3.68327135e-03, -2.61117658e-03, -4.23093420e-03,\n",
       "        9.55426227e-03,  4.52683680e-03, -2.71977112e-02,  4.24387492e-03,\n",
       "       -1.09898229e-03,  8.44206288e-03,  2.11234321e-03,  1.54877445e-02,\n",
       "        4.12210217e-03, -2.89632333e-03, -8.51122104e-03, -1.13846990e-03,\n",
       "        6.13150944e-04, -1.51233957e-03,  1.51027059e-02, -1.26786325e-02,\n",
       "       -7.74628017e-04,  4.05077357e-03, -6.13584649e-03, -1.12283016e-02,\n",
       "       -9.91065055e-03,  1.58621103e-03,  2.83877132e-03,  7.90999178e-03],\n",
       "      dtype=float32)"
      ]
     },
     "execution_count": 31,
     "metadata": {},
     "output_type": "execute_result"
    }
   ],
   "source": [
    "model.wv[\"遵义市\"]  # numpy vector of a word"
   ]
  },
  {
   "cell_type": "code",
   "execution_count": 37,
   "metadata": {},
   "outputs": [
    {
     "name": "stderr",
     "output_type": "stream",
     "text": [
      "D:\\Anaconda3\\lib\\site-packages\\ipykernel_launcher.py:1: DeprecationWarning: Call to deprecated `most_similar` (Method will be removed in 4.0.0, use self.wv.most_similar() instead).\n",
      "  \"\"\"Entry point for launching an IPython kernel.\n"
     ]
    },
    {
     "data": {
      "text/plain": [
       "[('采用', 0.7824817895889282),\n",
       " ('选用', 0.7084349393844604),\n",
       " ('用于', 0.6987842321395874),\n",
       " ('可用', 0.6889451742172241),\n",
       " ('用', 0.6875796318054199),\n",
       " ('运用', 0.6861847639083862),\n",
       " ('导入', 0.6486833095550537),\n",
       " ('用到', 0.6468229293823242),\n",
       " ('所用', 0.6466189026832581),\n",
       " ('添加', 0.6439599990844727)]"
      ]
     },
     "execution_count": 37,
     "metadata": {},
     "output_type": "execute_result"
    }
   ],
   "source": [
    "model.most_similar(\"使用\")"
   ]
  },
  {
   "cell_type": "code",
   "execution_count": null,
   "metadata": {},
   "outputs": [],
   "source": []
  }
 ],
 "metadata": {
  "kernelspec": {
   "display_name": "Python 3",
   "language": "python",
   "name": "python3"
  },
  "language_info": {
   "codemirror_mode": {
    "name": "ipython",
    "version": 3
   },
   "file_extension": ".py",
   "mimetype": "text/x-python",
   "name": "python",
   "nbconvert_exporter": "python",
   "pygments_lexer": "ipython3",
   "version": "3.7.3"
  }
 },
 "nbformat": 4,
 "nbformat_minor": 2
}
